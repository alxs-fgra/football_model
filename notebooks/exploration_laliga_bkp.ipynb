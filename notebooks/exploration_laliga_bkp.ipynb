{
“cells”: [
{
“cell_type”: “markdown”,
“metadata”: {},
“source”: [
“# ⚽ EDA LaLiga — Histórico 2023 y Temporada 2024/25 (FT)\n”,
“\n”,
“Exploración de datos de partidos finalizados (status=FT) para LaLiga, usando las tablas de BigQuery:\n”,
“- football_ds.fixtures (histórico 2015–2024)\n”,
“- football_ds.fixtures_2024_ft (temporada en curso 2024/25)\n”,
“\n”,
“El objetivo es comparar métricas clave como distribución de goles, resultados 1X2, ventaja de local, Over/Under y BTTS (Both Teams To Score).”
]
},
{
“cell_type”: “code”,
“metadata”: {},
“source”: [
“import os\n”,
“import pandas as pd\n”,
“import numpy as np\n”,
“import matplotlib.pyplot as plt\n”,
“from google.cloud import bigquery\n”,
“\n”,
“# — CONFIGURACIÓN —\n”,
“PROJECT_ID = ‘football-prediction-2025’\n”,
“CREDENTIALS_JSON = ‘/Users/B-yond/Documents/Sports Machine Learning/football_model/config/football-prediction-2025-c554bb4a599d.json’\n”,
“\n”,
“if not os.environ.get(‘GOOGLE_APPLICATION_CREDENTIALS’):\n”,
“    os.environ[‘GOOGLE_APPLICATION_CREDENTIALS’] = CREDENTIALS_JSON\n”,
“\n”,
“pd.set_option(‘display.max_columns’, 100)\n”,
“plt.rcParams[‘figure.figsize’] = (7, 5)\n”,
“\n”,
“# — CONEXIÓN —\n”,
“print(‘Inicializando cliente BigQuery…’)\n”,
“client = bigquery.Client(project=PROJECT_ID)\n”,
“try:\n”,
“    _ = list(client.list_datasets())\n”,
“    print(‘✅ Conexión a BigQuery verificada’)\n”,
“except Exception as e:\n”,
“    raise SystemExit(f’❌ Error al conectar con BigQuery: {e}’)”
]
},
{
“cell_type”: “markdown”,
“metadata”: {},
“source”: [
“## 1️⃣ Cargar Datos desde BigQuery”
]
},
{
“cell_type”: “code”,
“metadata”: {},
“source”: [
“QUERY_2023 = """\n”,
“SELECT fixture_id, date, league, season,\n”,
“       home_team, away_team,\n”,
“       CAST(goals_home AS INT64) AS goals_home,\n”,
“       CAST(goals_away AS INT64) AS goals_away,\n”,
“       status\n”,
“FROM football_ds.fixtures\n”,
“WHERE league = ‘La Liga’\n”,
“  AND season = 2023\n”,
“  AND status = ‘FT’\n”,
“"""\n”,
“\n”,
“QUERY_2025 = """\n”,
“SELECT fixture_id, date, league, season,\n”,
“       home_team, away_team,\n”,
“       CAST(goals_home AS INT64) AS goals_home,\n”,
“       CAST(goals_away AS INT64) AS goals_away,\n”,
“       status\n”,
“FROM football_ds.fixtures_2024_ft\n”,
“WHERE league = ‘La Liga’\n”,
“  AND season = 2025\n”,
“  AND status = ‘FT’\n”,
“"""\n”,
“\n”,
“print(‘Ejecutando consultas…’)\n”,
“df23 = client.query(QUERY_2023).to_dataframe()\n”,
“df25 = client.query(QUERY_2025).to_dataframe()\n”,
“\n”,
“print(f’➡️ df23 (LaLiga 2023, FT) shape: {df23.shape}’)\n”,
“print(f’➡️ df25 (LaLiga 2024/25, FT) shape: {df25.shape}’)”
]
},
{
“cell_type”: “markdown”,
“metadata”: {},
“source”: [
“## 2️⃣ Limpieza de Datos”
]
},
{
“cell_type”: “code”,
“metadata”: {},
“source”: [
“for name, df in [("df23", df23), ("df25", df25)]:\n”,
“    before = len(df)\n”,
“    df.dropna(subset=[‘goals_home’, ‘goals_away’], inplace=True)\n”,
“    after = len(df)\n”,
“    if after < before:\n”,
“        print(f’⚠️ {name}: {before-after} filas con goles nulos eliminadas’)\n”,
“\n”,
“    df[‘goals_home’] = df[‘goals_home’].astype(int)\n”,
“    df[‘goals_away’] = df[‘goals_away’].astype(int)\n”,
“    df[‘total_goals’] = df[‘goals_home’] + df[‘goals_away’]\n”,
“\n”,
“print(‘✅ Limpieza completada.’)”
]
},
{
“cell_type”: “markdown”,
“metadata”: {},
“source”: [
“## 3️⃣ Métricas Principales y Distribuciones”
]
},
{
“cell_type”: “code”,
“metadata”: {},
“source”: [
“def result_row(r):\n”,
“    if r[‘goals_home’] > r[‘goals_away’]: return ‘Home Win’\n”,
“    if r[‘goals_home’] < r[‘goals_away’]: return ‘Away Win’\n”,
“    return ‘Draw’\n”,
“\n”,
“df23[‘result’] = df23.apply(result_row, axis=1)\n”,
“df25[‘result’] = df25.apply(result_row, axis=1)\n”,
“\n”,
“print(‘LaLiga 2023 - Goles promedio total:’, df23[‘total_goals’].mean().round(2))\n”,
“print(‘LaLiga 2024/25 - Goles promedio total:’, df25[‘total_goals’].mean().round(2))\n”,
“\n”,
“bins = list(range(0, 10))\n”,
“plt.hist(df23[‘total_goals’], bins=bins, edgecolor=‘black’)\n”,
“plt.title(‘Distribución de Goles Totales (LaLiga 2023)’)\n”,
“plt.show()\n”,
“\n”,
“plt.hist(df25[‘total_goals’], bins=bins, edgecolor=‘black’)\n”,
“plt.title(‘Distribución de Goles Totales (LaLiga 2024/25 FT)’)\n”,
“plt.show()”
]
},
{
“cell_type”: “markdown”,
“metadata”: {},
“source”: [
“## 4️⃣ Distribución 1X2 y Ventaja de Local”
]
},
{
“cell_type”: “code”,
“metadata”: {},
“source”: [
“def dist_1x2(df):\n”,
“    order = [‘Home Win’, ‘Draw’, ‘Away Win’]\n”,
“    res = df[‘result’].value_counts(normalize=True) * 100\n”,
“    return res.reindex(order).round(2)\n”,
“\n”,
“print(‘Distribución 1X2 2023 (%):\n’, dist_1x2(df23))\n”,
“print(‘Distribución 1X2 2024/25 (%):\n’, dist_1x2(df25))\n”,
“\n”,
“home_win_23 = (df23[‘result’] == ‘Home Win’).mean() * 100\n”,
“home_win_25 = (df25[‘result’] == ‘Home Win’).mean() * 100\n”,
“print(f’Home Win Rate 2023: {home_win_23:.2f}%’)\n”,
“print(f’Home Win Rate 2024/25: {home_win_25:.2f}%’)”
]
},
{
“cell_type”: “markdown”,
“metadata”: {},
“source”: [
“## 5️⃣ Over / Under”
]
},
{
“cell_type”: “code”,
“metadata”: {},
“source”: [
“def ou_rates(df):\n”,
“    tg = df[‘total_goals’]\n”,
“    return {\n”,
“        ‘O0.5’: (tg > 0.5).mean(),\n”,
“        ‘O1.5’: (tg > 1.5).mean(),\n”,
“        ‘O2.5’: (tg > 2.5).mean(),\n”,
“        ‘O3.5’: (tg > 3.5).mean(),\n”,
“        ‘U0.5’: (tg <= 0.5).mean(),\n”,
“        ‘U1.5’: (tg <= 1.5).mean(),\n”,
“        ‘U2.5’: (tg <= 2.5).mean(),\n”,
“        ‘U3.5’: (tg <= 3.5).mean(),\n”,
“    }\n”,
“\n”,
“print(‘Over/Under 2023 (%):’, {k: round(v100,2) for k,v in ou_rates(df23).items()})\n”,
“print(‘Over/Under 2024/25 (%):’, {k: round(v100,2) for k,v in ou_rates(df25).items()})”
]
},
{
“cell_type”: “markdown”,
“metadata”: {},
“source”: [
“## 6️⃣ BTTS (Both Teams To Score)”
]
},
{
“cell_type”: “code”,
“metadata”: {},
“source”: [
“def btts_rate(df):\n”,
“    return ((df[‘goals_home’] > 0) & (df[‘goals_away’] > 0)).mean()\n”,
“\n”,
“print(‘BTTS LaLiga 2023 (%):’, round(btts_rate(df23) * 100, 2))\n”,
“print(‘BTTS LaLiga 2024/25 (%):’, round(btts_rate(df25) * 100, 2))”
]
},
{
“cell_type”: “markdown”,
“metadata”: {},
“source”: [
“## 7️⃣ Exportar Resultados”
]
},
{
“cell_type”: “code”,
“metadata”: {},
“source”: [
“os.makedirs(‘data/analysis’, exist_ok=True)\n”,
“df23.to_csv(‘data/analysis/laliga_2023_matches.csv’, index=False)\n”,
“df25.to_csv(‘data/analysis/laliga_2024_25_ft_matches.csv’, index=False)\n”,
“print(‘Archivos exportados en data/analysis/:’)\n”,
“print(’- laliga_2023_matches.csv’)\n”,
“print(’- laliga_2024_25_ft_matches.csv’)\n”,
“print(‘✅ EDA finalizado’)”
]
}
],
“metadata”: {
“kernelspec”: {
“display_name”: “Python 3”,
“language”: “python”,
“name”: “python3”
},
“language_info”: {
“name”: “python”,
“version”: “3.11”
}
},
“nbformat”: 4,
“nbformat_minor”: 5
}