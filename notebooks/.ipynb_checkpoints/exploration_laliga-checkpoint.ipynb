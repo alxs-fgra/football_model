{
 "cells": [
  {
   "cell_type": "markdown",
   "id": "4438373c",
   "metadata": {},
   "source": [
    "# EDA LaLiga — histórico 2023 y temporada 2024/25 (FT)\n",
    "\n",
    "Objetivos:\n",
    "- Cargar datos desde BigQuery (tablas `football_ds.fixtures` y `football_ds.fixtures_2024_ft`).\n",
    "- Explorar goles (home/away/total), distribución 1X2 y ventaja de local.\n",
    "- Validar que los datos están completos (2023) y razonables (2024/25 parcial, `status=FT`)."
   ]
  },
  {
   "cell_type": "code",
   "execution_count": 1,
   "id": "d4c94eb7",
   "metadata": {},
   "outputs": [
    {
     "name": "stderr",
     "output_type": "stream",
     "text": [
      "/Users/B-yond/anaconda3/lib/python3.11/site-packages/pandas/core/arrays/masked.py:61: UserWarning: Pandas requires version '1.3.6' or newer of 'bottleneck' (version '1.3.5' currently installed).\n",
      "  from pandas.core import (\n"
     ]
    },
    {
     "ename": "DefaultCredentialsError",
     "evalue": "File /Users/B-yond/Documents/Sports Machine Learning/football_model/config/football-prediction-123-abc123.json was not found.",
     "output_type": "error",
     "traceback": [
      "\u001b[0;31m---------------------------------------------------------------------------\u001b[0m",
      "\u001b[0;31mDefaultCredentialsError\u001b[0m                   Traceback (most recent call last)",
      "Cell \u001b[0;32mIn[1], line 12\u001b[0m\n\u001b[1;32m      9\u001b[0m plt\u001b[38;5;241m.\u001b[39mrcParams[\u001b[38;5;124m'\u001b[39m\u001b[38;5;124mfigure.figsize\u001b[39m\u001b[38;5;124m'\u001b[39m] \u001b[38;5;241m=\u001b[39m (\u001b[38;5;241m7\u001b[39m, \u001b[38;5;241m5\u001b[39m)\n\u001b[1;32m     11\u001b[0m \u001b[38;5;66;03m# Autenticación: usa GOOGLE_APPLICATION_CREDENTIALS ya exportada en el shell.\u001b[39;00m\n\u001b[0;32m---> 12\u001b[0m client \u001b[38;5;241m=\u001b[39m bigquery\u001b[38;5;241m.\u001b[39mClient()\n\u001b[1;32m     13\u001b[0m \u001b[38;5;28mprint\u001b[39m(\u001b[38;5;124m\"\u001b[39m\u001b[38;5;124m✅ BigQuery client OK\u001b[39m\u001b[38;5;124m\"\u001b[39m)\n",
      "File \u001b[0;32m~/anaconda3/lib/python3.11/site-packages/google/cloud/bigquery/client.py:261\u001b[0m, in \u001b[0;36mClient.__init__\u001b[0;34m(self, project, credentials, _http, location, default_query_job_config, default_load_job_config, client_info, client_options, default_job_creation_mode)\u001b[0m\n\u001b[1;32m    258\u001b[0m     client_options \u001b[38;5;241m=\u001b[39m google\u001b[38;5;241m.\u001b[39mapi_core\u001b[38;5;241m.\u001b[39mclient_options\u001b[38;5;241m.\u001b[39mfrom_dict(client_options)\n\u001b[1;32m    259\u001b[0m \u001b[38;5;66;03m# assert isinstance(client_options, google.api_core.client_options.ClientOptions)\u001b[39;00m\n\u001b[0;32m--> 261\u001b[0m \u001b[38;5;28msuper\u001b[39m(Client, \u001b[38;5;28mself\u001b[39m)\u001b[38;5;241m.\u001b[39m\u001b[38;5;21m__init__\u001b[39m(\n\u001b[1;32m    262\u001b[0m     project\u001b[38;5;241m=\u001b[39mproject,\n\u001b[1;32m    263\u001b[0m     credentials\u001b[38;5;241m=\u001b[39mcredentials,\n\u001b[1;32m    264\u001b[0m     client_options\u001b[38;5;241m=\u001b[39mclient_options,\n\u001b[1;32m    265\u001b[0m     _http\u001b[38;5;241m=\u001b[39m_http,\n\u001b[1;32m    266\u001b[0m )\n\u001b[1;32m    268\u001b[0m kw_args: Dict[\u001b[38;5;28mstr\u001b[39m, Any] \u001b[38;5;241m=\u001b[39m {\u001b[38;5;124m\"\u001b[39m\u001b[38;5;124mclient_info\u001b[39m\u001b[38;5;124m\"\u001b[39m: client_info}\n\u001b[1;32m    269\u001b[0m bq_host \u001b[38;5;241m=\u001b[39m _get_bigquery_host()\n",
      "File \u001b[0;32m~/anaconda3/lib/python3.11/site-packages/google/cloud/client/__init__.py:338\u001b[0m, in \u001b[0;36mClientWithProject.__init__\u001b[0;34m(self, project, credentials, client_options, _http)\u001b[0m\n\u001b[1;32m    337\u001b[0m \u001b[38;5;28;01mdef\u001b[39;00m \u001b[38;5;21m__init__\u001b[39m(\u001b[38;5;28mself\u001b[39m, project\u001b[38;5;241m=\u001b[39m\u001b[38;5;28;01mNone\u001b[39;00m, credentials\u001b[38;5;241m=\u001b[39m\u001b[38;5;28;01mNone\u001b[39;00m, client_options\u001b[38;5;241m=\u001b[39m\u001b[38;5;28;01mNone\u001b[39;00m, _http\u001b[38;5;241m=\u001b[39m\u001b[38;5;28;01mNone\u001b[39;00m):\n\u001b[0;32m--> 338\u001b[0m     _ClientProjectMixin\u001b[38;5;241m.\u001b[39m\u001b[38;5;21m__init__\u001b[39m(\u001b[38;5;28mself\u001b[39m, project\u001b[38;5;241m=\u001b[39mproject, credentials\u001b[38;5;241m=\u001b[39mcredentials)\n\u001b[1;32m    339\u001b[0m     Client\u001b[38;5;241m.\u001b[39m\u001b[38;5;21m__init__\u001b[39m(\n\u001b[1;32m    340\u001b[0m         \u001b[38;5;28mself\u001b[39m, credentials\u001b[38;5;241m=\u001b[39mcredentials, client_options\u001b[38;5;241m=\u001b[39mclient_options, _http\u001b[38;5;241m=\u001b[39m_http\n\u001b[1;32m    341\u001b[0m     )\n",
      "File \u001b[0;32m~/anaconda3/lib/python3.11/site-packages/google/cloud/client/__init__.py:286\u001b[0m, in \u001b[0;36m_ClientProjectMixin.__init__\u001b[0;34m(self, project, credentials)\u001b[0m\n\u001b[1;32m    283\u001b[0m     project \u001b[38;5;241m=\u001b[39m \u001b[38;5;28mgetattr\u001b[39m(credentials, \u001b[38;5;124m\"\u001b[39m\u001b[38;5;124mproject_id\u001b[39m\u001b[38;5;124m\"\u001b[39m, \u001b[38;5;28;01mNone\u001b[39;00m)\n\u001b[1;32m    285\u001b[0m \u001b[38;5;28;01mif\u001b[39;00m project \u001b[38;5;129;01mis\u001b[39;00m \u001b[38;5;28;01mNone\u001b[39;00m:\n\u001b[0;32m--> 286\u001b[0m     project \u001b[38;5;241m=\u001b[39m \u001b[38;5;28mself\u001b[39m\u001b[38;5;241m.\u001b[39m_determine_default(project)\n\u001b[1;32m    288\u001b[0m \u001b[38;5;28;01mif\u001b[39;00m project \u001b[38;5;129;01mis\u001b[39;00m \u001b[38;5;28;01mNone\u001b[39;00m:\n\u001b[1;32m    289\u001b[0m     \u001b[38;5;28;01mraise\u001b[39;00m \u001b[38;5;167;01mEnvironmentError\u001b[39;00m(\n\u001b[1;32m    290\u001b[0m         \u001b[38;5;124m\"\u001b[39m\u001b[38;5;124mProject was not passed and could not be \u001b[39m\u001b[38;5;124m\"\u001b[39m\n\u001b[1;32m    291\u001b[0m         \u001b[38;5;124m\"\u001b[39m\u001b[38;5;124mdetermined from the environment.\u001b[39m\u001b[38;5;124m\"\u001b[39m\n\u001b[1;32m    292\u001b[0m     )\n",
      "File \u001b[0;32m~/anaconda3/lib/python3.11/site-packages/google/cloud/client/__init__.py:305\u001b[0m, in \u001b[0;36m_ClientProjectMixin._determine_default\u001b[0;34m(project)\u001b[0m\n\u001b[1;32m    302\u001b[0m \u001b[38;5;129m@staticmethod\u001b[39m\n\u001b[1;32m    303\u001b[0m \u001b[38;5;28;01mdef\u001b[39;00m \u001b[38;5;21m_determine_default\u001b[39m(project):\n\u001b[1;32m    304\u001b[0m \u001b[38;5;250m    \u001b[39m\u001b[38;5;124;03m\"\"\"Helper:  use default project detection.\"\"\"\u001b[39;00m\n\u001b[0;32m--> 305\u001b[0m     \u001b[38;5;28;01mreturn\u001b[39;00m _determine_default_project(project)\n",
      "File \u001b[0;32m~/anaconda3/lib/python3.11/site-packages/google/cloud/_helpers/__init__.py:152\u001b[0m, in \u001b[0;36m_determine_default_project\u001b[0;34m(project)\u001b[0m\n\u001b[1;32m    140\u001b[0m \u001b[38;5;250m\u001b[39m\u001b[38;5;124;03m\"\"\"Determine default project ID explicitly or implicitly as fall-back.\u001b[39;00m\n\u001b[1;32m    141\u001b[0m \n\u001b[1;32m    142\u001b[0m \u001b[38;5;124;03mSee :func:`google.auth.default` for details on how the default project\u001b[39;00m\n\u001b[0;32m   (...)\u001b[0m\n\u001b[1;32m    149\u001b[0m \u001b[38;5;124;03m:returns: Default project if it can be determined.\u001b[39;00m\n\u001b[1;32m    150\u001b[0m \u001b[38;5;124;03m\"\"\"\u001b[39;00m\n\u001b[1;32m    151\u001b[0m \u001b[38;5;28;01mif\u001b[39;00m project \u001b[38;5;129;01mis\u001b[39;00m \u001b[38;5;28;01mNone\u001b[39;00m:\n\u001b[0;32m--> 152\u001b[0m     _, project \u001b[38;5;241m=\u001b[39m google\u001b[38;5;241m.\u001b[39mauth\u001b[38;5;241m.\u001b[39mdefault()\n\u001b[1;32m    153\u001b[0m \u001b[38;5;28;01mreturn\u001b[39;00m project\n",
      "File \u001b[0;32m~/anaconda3/lib/python3.11/site-packages/google/auth/_default.py:705\u001b[0m, in \u001b[0;36mdefault\u001b[0;34m(scopes, request, quota_project_id, default_scopes)\u001b[0m\n\u001b[1;32m    693\u001b[0m checkers \u001b[38;5;241m=\u001b[39m (\n\u001b[1;32m    694\u001b[0m     \u001b[38;5;66;03m# Avoid passing scopes here to prevent passing scopes to user credentials.\u001b[39;00m\n\u001b[1;32m    695\u001b[0m     \u001b[38;5;66;03m# with_scopes_if_required() below will ensure scopes/default scopes are\u001b[39;00m\n\u001b[0;32m   (...)\u001b[0m\n\u001b[1;32m    701\u001b[0m     \u001b[38;5;28;01mlambda\u001b[39;00m: _get_gce_credentials(request, quota_project_id\u001b[38;5;241m=\u001b[39mquota_project_id),\n\u001b[1;32m    702\u001b[0m )\n\u001b[1;32m    704\u001b[0m \u001b[38;5;28;01mfor\u001b[39;00m checker \u001b[38;5;129;01min\u001b[39;00m checkers:\n\u001b[0;32m--> 705\u001b[0m     credentials, project_id \u001b[38;5;241m=\u001b[39m checker()\n\u001b[1;32m    706\u001b[0m     \u001b[38;5;28;01mif\u001b[39;00m credentials \u001b[38;5;129;01mis\u001b[39;00m \u001b[38;5;129;01mnot\u001b[39;00m \u001b[38;5;28;01mNone\u001b[39;00m:\n\u001b[1;32m    707\u001b[0m         credentials \u001b[38;5;241m=\u001b[39m with_scopes_if_required(\n\u001b[1;32m    708\u001b[0m             credentials, scopes, default_scopes\u001b[38;5;241m=\u001b[39mdefault_scopes\n\u001b[1;32m    709\u001b[0m         )\n",
      "File \u001b[0;32m~/anaconda3/lib/python3.11/site-packages/google/auth/_default.py:698\u001b[0m, in \u001b[0;36mdefault.<locals>.<lambda>\u001b[0;34m()\u001b[0m\n\u001b[1;32m    687\u001b[0m \u001b[38;5;28;01mfrom\u001b[39;00m \u001b[38;5;21;01mgoogle\u001b[39;00m\u001b[38;5;21;01m.\u001b[39;00m\u001b[38;5;21;01mauth\u001b[39;00m\u001b[38;5;21;01m.\u001b[39;00m\u001b[38;5;21;01mcredentials\u001b[39;00m \u001b[38;5;28;01mimport\u001b[39;00m CredentialsWithQuotaProject\n\u001b[1;32m    689\u001b[0m explicit_project_id \u001b[38;5;241m=\u001b[39m os\u001b[38;5;241m.\u001b[39menviron\u001b[38;5;241m.\u001b[39mget(\n\u001b[1;32m    690\u001b[0m     environment_vars\u001b[38;5;241m.\u001b[39mPROJECT, os\u001b[38;5;241m.\u001b[39menviron\u001b[38;5;241m.\u001b[39mget(environment_vars\u001b[38;5;241m.\u001b[39mLEGACY_PROJECT)\n\u001b[1;32m    691\u001b[0m )\n\u001b[1;32m    693\u001b[0m checkers \u001b[38;5;241m=\u001b[39m (\n\u001b[1;32m    694\u001b[0m     \u001b[38;5;66;03m# Avoid passing scopes here to prevent passing scopes to user credentials.\u001b[39;00m\n\u001b[1;32m    695\u001b[0m     \u001b[38;5;66;03m# with_scopes_if_required() below will ensure scopes/default scopes are\u001b[39;00m\n\u001b[1;32m    696\u001b[0m     \u001b[38;5;66;03m# safely set on the returned credentials since requires_scopes will\u001b[39;00m\n\u001b[1;32m    697\u001b[0m     \u001b[38;5;66;03m# guard against setting scopes on user credentials.\u001b[39;00m\n\u001b[0;32m--> 698\u001b[0m     \u001b[38;5;28;01mlambda\u001b[39;00m: _get_explicit_environ_credentials(quota_project_id\u001b[38;5;241m=\u001b[39mquota_project_id),\n\u001b[1;32m    699\u001b[0m     \u001b[38;5;28;01mlambda\u001b[39;00m: _get_gcloud_sdk_credentials(quota_project_id\u001b[38;5;241m=\u001b[39mquota_project_id),\n\u001b[1;32m    700\u001b[0m     _get_gae_credentials,\n\u001b[1;32m    701\u001b[0m     \u001b[38;5;28;01mlambda\u001b[39;00m: _get_gce_credentials(request, quota_project_id\u001b[38;5;241m=\u001b[39mquota_project_id),\n\u001b[1;32m    702\u001b[0m )\n\u001b[1;32m    704\u001b[0m \u001b[38;5;28;01mfor\u001b[39;00m checker \u001b[38;5;129;01min\u001b[39;00m checkers:\n\u001b[1;32m    705\u001b[0m     credentials, project_id \u001b[38;5;241m=\u001b[39m checker()\n",
      "File \u001b[0;32m~/anaconda3/lib/python3.11/site-packages/google/auth/_default.py:346\u001b[0m, in \u001b[0;36m_get_explicit_environ_credentials\u001b[0;34m(quota_project_id)\u001b[0m\n\u001b[1;32m    344\u001b[0m \u001b[38;5;28;01mwith\u001b[39;00m warnings\u001b[38;5;241m.\u001b[39mcatch_warnings():\n\u001b[1;32m    345\u001b[0m     warnings\u001b[38;5;241m.\u001b[39msimplefilter(\u001b[38;5;124m\"\u001b[39m\u001b[38;5;124mignore\u001b[39m\u001b[38;5;124m\"\u001b[39m, \u001b[38;5;167;01mDeprecationWarning\u001b[39;00m)\n\u001b[0;32m--> 346\u001b[0m     credentials, project_id \u001b[38;5;241m=\u001b[39m load_credentials_from_file(\n\u001b[1;32m    347\u001b[0m         os\u001b[38;5;241m.\u001b[39menviron[environment_vars\u001b[38;5;241m.\u001b[39mCREDENTIALS],\n\u001b[1;32m    348\u001b[0m         quota_project_id\u001b[38;5;241m=\u001b[39mquota_project_id,\n\u001b[1;32m    349\u001b[0m     )\n\u001b[1;32m    350\u001b[0m     credentials\u001b[38;5;241m.\u001b[39m_cred_file_path \u001b[38;5;241m=\u001b[39m \u001b[38;5;124mf\u001b[39m\u001b[38;5;124m\"\u001b[39m\u001b[38;5;132;01m{\u001b[39;00mexplicit_file\u001b[38;5;132;01m}\u001b[39;00m\u001b[38;5;124m file via the GOOGLE_APPLICATION_CREDENTIALS environment variable\u001b[39m\u001b[38;5;124m\"\u001b[39m\n\u001b[1;32m    352\u001b[0m     \u001b[38;5;28;01mreturn\u001b[39;00m credentials, project_id\n",
      "File \u001b[0;32m~/anaconda3/lib/python3.11/site-packages/google/auth/_default.py:173\u001b[0m, in \u001b[0;36mload_credentials_from_file\u001b[0;34m(filename, scopes, default_scopes, quota_project_id, request)\u001b[0m\n\u001b[1;32m    170\u001b[0m _warn_about_generic_load_method(\u001b[38;5;124m\"\u001b[39m\u001b[38;5;124mload_credentials_from_file\u001b[39m\u001b[38;5;124m\"\u001b[39m)\n\u001b[1;32m    172\u001b[0m \u001b[38;5;28;01mif\u001b[39;00m \u001b[38;5;129;01mnot\u001b[39;00m os\u001b[38;5;241m.\u001b[39mpath\u001b[38;5;241m.\u001b[39mexists(filename):\n\u001b[0;32m--> 173\u001b[0m     \u001b[38;5;28;01mraise\u001b[39;00m exceptions\u001b[38;5;241m.\u001b[39mDefaultCredentialsError(\n\u001b[1;32m    174\u001b[0m         \u001b[38;5;124m\"\u001b[39m\u001b[38;5;124mFile \u001b[39m\u001b[38;5;132;01m{}\u001b[39;00m\u001b[38;5;124m was not found.\u001b[39m\u001b[38;5;124m\"\u001b[39m\u001b[38;5;241m.\u001b[39mformat(filename)\n\u001b[1;32m    175\u001b[0m     )\n\u001b[1;32m    177\u001b[0m \u001b[38;5;28;01mwith\u001b[39;00m io\u001b[38;5;241m.\u001b[39mopen(filename, \u001b[38;5;124m\"\u001b[39m\u001b[38;5;124mr\u001b[39m\u001b[38;5;124m\"\u001b[39m) \u001b[38;5;28;01mas\u001b[39;00m file_obj:\n\u001b[1;32m    178\u001b[0m     \u001b[38;5;28;01mtry\u001b[39;00m:\n",
      "\u001b[0;31mDefaultCredentialsError\u001b[0m: File /Users/B-yond/Documents/Sports Machine Learning/football_model/config/football-prediction-123-abc123.json was not found."
     ]
    }
   ],
   "source": [
    "%matplotlib inline\n",
    "import os\n",
    "import pandas as pd\n",
    "import numpy as np\n",
    "import matplotlib.pyplot as plt\n",
    "from google.cloud import bigquery\n",
    "\n",
    "pd.set_option('display.max_columns', 100)\n",
    "plt.rcParams['figure.figsize'] = (7, 5)\n",
    "\n",
    "# Autenticación: usa GOOGLE_APPLICATION_CREDENTIALS ya exportada en el shell.\n",
    "client = bigquery.Client()\n",
    "print(\"✅ BigQuery client OK\")"
   ]
  },
  {
   "cell_type": "markdown",
   "id": "2894cd48",
   "metadata": {},
   "source": [
    "## Cargar LaLiga 2023 (histórico completo)\n",
    "Usaremos la tabla `football_ds.fixtures` (tu histórico 2015–2024)."
   ]
  },
  {
   "cell_type": "code",
   "execution_count": null,
   "id": "be84e9e9",
   "metadata": {},
   "outputs": [],
   "source": [
    "QUERY_2023 = \"\"\"\n",
    "SELECT fixture_id, date, league, season,\n",
    "       home_team, away_team,\n",
    "       CAST(goals_home AS INT64) AS goals_home,\n",
    "       CAST(goals_away AS INT64) AS goals_away,\n",
    "       status\n",
    "FROM `football_ds.fixtures`\n",
    "WHERE league = 'La Liga'\n",
    "  AND season = 2023\n",
    "  AND status = 'FT'\n",
    "\"\"\"\n",
    "df23 = client.query(QUERY_2023).to_dataframe()\n",
    "print(df23.shape)\n",
    "df23.head()"
   ]
  },
  {
   "cell_type": "markdown",
   "id": "72cfbfe9",
   "metadata": {},
   "source": [
    "Limpieza rápida (por si acaso): eliminar nulos en goles y asegurar tipos numéricos."
   ]
  },
  {
   "cell_type": "code",
   "execution_count": null,
   "id": "5134bbae",
   "metadata": {},
   "outputs": [],
   "source": [
    "df23 = df23.dropna(subset=[\"goals_home\", \"goals_away\"]).copy()\n",
    "df23[\"goals_home\"] = df23[\"goals_home\"].astype(int)\n",
    "df23[\"goals_away\"] = df23[\"goals_away\"].astype(int)\n",
    "df23[\"total_goals\"] = df23[\"goals_home\"] + df23[\"goals_away\"]\n",
    "print(\"🧮 Partidos (LaLiga 2023, FT):\", len(df23))\n",
    "df23.head(3)"
   ]
  },
  {
   "cell_type": "markdown",
   "id": "469ea5a6",
   "metadata": {},
   "source": [
    "## Métricas básicas — LaLiga 2023 (FT)"
   ]
  },
  {
   "cell_type": "code",
   "execution_count": null,
   "id": "6ae2eb62",
   "metadata": {},
   "outputs": [],
   "source": [
    "print(\"Goles promedio por partido:\", df23[\"total_goals\"].mean().round(3))\n",
    "print(\"Goles local promedio:\", df23[\"goals_home\"].mean().round(3))\n",
    "print(\"Goles visita promedio:\", df23[\"goals_away\"].mean().round(3))\n",
    "\n",
    "# Distribución de goles totales\n",
    "bins = list(range(0, 10))\n",
    "plt.hist(df23[\"total_goals\"], bins=bins, edgecolor='black')\n",
    "plt.title('Distribución de Goles Totales (LaLiga 2023)')\n",
    "plt.xlabel('Goles Totales')\n",
    "plt.ylabel('Frecuencia')\n",
    "plt.show()\n",
    "\n",
    "# Resultado 1X2\n",
    "def result_row(r):\n",
    "    if r[\"goals_home\"] > r[\"goals_away\"]: return \"Home Win\"\n",
    "    if r[\"goals_home\"] < r[\"goals_away\"]: return \"Away Win\"\n",
    "    return \"Draw\"\n",
    "\n",
    "df23[\"result\"] = df23.apply(result_row, axis=1)\n",
    "dist = (df23[\"result\"].value_counts(normalize=True) * 100).round(2)\n",
    "print(\"\\nDistribución 1X2 (%):\\n\", dist)\n",
    "\n",
    "# Ventaja de local: % de victorias local\n",
    "home_win_rate = (df23[\"result\"].eq(\"Home Win\").mean() * 100).round(2)\n",
    "print(\"\\nHome win rate (%):\", home_win_rate)\n",
    "\n",
    "# Goles por equipo (a favor y en contra)\n",
    "gf_home = df23.groupby(\"home_team\")[\"goals_home\"].sum()\n",
    "gf_away = df23.groupby(\"away_team\")[\"goals_away\"].sum()\n",
    "gf = (gf_home.add(gf_away, fill_value=0)).sort_values(ascending=False)\n",
    "ga_home = df23.groupby(\"home_team\")[\"goals_away\"].sum()\n",
    "ga_away = df23.groupby(\"away_team\")[\"goals_home\"].sum()\n",
    "ga = (ga_home.add(ga_away, fill_value=0)).sort_values(ascending=True)\n",
    "\n",
    "print(\"\\nTop 5 equipos más goleadores (GF):\\n\", gf.head(5))\n",
    "print(\"\\nTop 5 equipos menos goleados (GA):\\n\", ga.head(5))"
   ]
  },
  {
   "cell_type": "markdown",
   "id": "32eef195",
   "metadata": {},
   "source": [
    "---\n",
    "## Temporada en curso 2024/25 — `status=FT` (tabla `fixtures_2024_ft`)\n",
    "Usamos `season=2025` (definición de API-Football para campaña 2024/25) y solo partidos finalizados (`status=FT`)."
   ]
  },
  {
   "cell_type": "code",
   "execution_count": null,
   "id": "a4f355ca",
   "metadata": {},
   "outputs": [],
   "source": [
    "QUERY_2025 = \"\"\"\n",
    "SELECT fixture_id, date, league, season,\n",
    "       home_team, away_team,\n",
    "       CAST(goals_home AS INT64) AS goals_home,\n",
    "       CAST(goals_away AS INT64) AS goals_away,\n",
    "       status\n",
    "FROM `football_ds.fixtures_2024_ft`\n",
    "WHERE league = 'La Liga'\n",
    "  AND season = 2025\n",
    "  AND status = 'FT'\n",
    "\"\"\"\n",
    "df25 = client.query(QUERY_2025).to_dataframe()\n",
    "print(df25.shape)\n",
    "df25.head()"
   ]
  },
  {
   "cell_type": "markdown",
   "id": "73868953",
   "metadata": {},
   "source": [
    "Limpieza rápida y mismas métricas para comparar con 2023 (ten en cuenta que 2024/25 es parcial)."
   ]
  },
  {
   "cell_type": "code",
   "execution_count": null,
   "id": "c772242b",
   "metadata": {},
   "outputs": [],
   "source": [
    "df25 = df25.dropna(subset=[\"goals_home\", \"goals_away\"]).copy()\n",
    "df25[\"goals_home\"] = df25[\"goals_home\"].astype(int)\n",
    "df25[\"goals_away\"] = df25[\"goals_away\"].astype(int)\n",
    "df25[\"total_goals\"] = df25[\"goals_home\"] + df25[\"goals_away\"]\n",
    "print(\"🧮 Partidos (LaLiga 2024/25, FT):\", len(df25))\n",
    "\n",
    "print(\"Goles promedio por partido (2024/25):\", df25[\"total_goals\"].mean().round(3))\n",
    "print(\"Goles local promedio (2024/25):\", df25[\"goals_home\"].mean().round(3))\n",
    "print(\"Goles visita promedio (2024/25):\", df25[\"goals_away\"].mean().round(3))\n",
    "\n",
    "bins = list(range(0, 10))\n",
    "plt.hist(df25[\"total_goals\"], bins=bins, edgecolor='black')\n",
    "plt.title('Distribución de Goles Totales (LaLiga 2024/25 FT)')\n",
    "plt.xlabel('Goles Totales')\n",
    "plt.ylabel('Frecuencia')\n",
    "plt.show()\n",
    "\n",
    "df25[\"result\"] = df25.apply(lambda r: \"Home Win\" if r[\"goals_home\"]>r[\"goals_away\"] else (\"Away Win\" if r[\"goals_away\"]>r[\"goals_home\"] else \"Draw\"), axis=1)\n",
    "dist25 = (df25[\"result\"].value_counts(normalize=True) * 100).round(2)\n",
    "print(\"\\nDistribución 1X2 2024/25 (%):\\n\", dist25)\n",
    "home_win_rate_25 = (df25[\"result\"].eq(\"Home Win\").mean() * 100).round(2)\n",
    "print(\"Home win rate 2024/25 (%):\", home_win_rate_25)"
   ]
  },
  {
   "cell_type": "markdown",
   "id": "f3ca65aa",
   "metadata": {},
   "source": [
    "## Exportar resultados (opcional)\n",
    "Para trazabilidad y reportes rápidos."
   ]
  },
  {
   "cell_type": "code",
   "execution_count": null,
   "id": "c00a8302",
   "metadata": {},
   "outputs": [],
   "source": [
    "os.makedirs('data/analysis', exist_ok=True)\n",
    "df23.to_csv('data/analysis/laliga_2023_matches.csv', index=False)\n",
    "df25.to_csv('data/analysis/laliga_2024_25_ft_matches.csv', index=False)\n",
    "print(\"Archivos guardados en data/analysis/\")"
   ]
  },
  {
   "cell_type": "code",
   "execution_count": null,
   "id": "f3213c6c",
   "metadata": {},
   "outputs": [],
   "source": []
  }
 ],
 "metadata": {
  "kernelspec": {
   "display_name": "Python 3 (ipykernel)",
   "language": "python",
   "name": "python3"
  },
  "language_info": {
   "codemirror_mode": {
    "name": "ipython",
    "version": 3
   },
   "file_extension": ".py",
   "mimetype": "text/x-python",
   "name": "python",
   "nbconvert_exporter": "python",
   "pygments_lexer": "ipython3",
   "version": "3.11.3"
  }
 },
 "nbformat": 4,
 "nbformat_minor": 5
}
